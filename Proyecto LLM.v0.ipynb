{
  "nbformat": 4,
  "nbformat_minor": 0,
  "metadata": {
    "colab": {
      "provenance": []
    },
    "kernelspec": {
      "name": "python3",
      "display_name": "Python 3"
    },
    "language_info": {
      "name": "python"
    }
  },
  "cells": [
    {
      "cell_type": "markdown",
      "source": [
        "# Trabajo NLP\n",
        "## Nombre: Jose Daniel Calderon Neyra\n",
        "\n",
        "### Estructura\n",
        "\n",
        "\n",
        "\n",
        "1.   Introducción y Justificación del Tema\n",
        "2.   Datos\n",
        "3.   Modelos a emplear\n",
        "4.   Comparación\n",
        "5.   Conclusiones\n"
      ],
      "metadata": {
        "id": "maytFHNUXtEf"
      }
    },
    {
      "cell_type": "markdown",
      "source": [
        "## Introducción y Justificación del tema\n",
        "\n",
        "Los modelos de lenguaje natural se ha sumado en varios estudios para servir como una guia de inversión y soporte de estrategias financieras (Araci, 2019; Xing, 2024; Harish Bhat & Jain, 2024; entre otros). En ellos, se encuentran métricas de análisis de sentimiento basados en perspectivas positivas, negativas o neutras del mercado actual. Este trabajo se centra en el uso de FinBert (Araci, 2019), un modelo pre-entrenado con lenguaje financiero. Este modelo ofrece tres categorias: 0, que representa neutro; 1: positivo; y 2, negativo. Se evalua cómo este modelo reacciona a datos diarios de Bloomberg, relacionado a varios temas macrofinancieros."
      ],
      "metadata": {
        "id": "rxjATpXEYrp_"
      }
    },
    {
      "cell_type": "markdown",
      "source": [
        "## Datos\n",
        "### ¿De dónde provienen?\n",
        "\n",
        "Los datos fueron obtenidos de un RSS (Really Simple Syndication), que es una publicación,en este caso, de Bloomberg que representa un archivo XML. Estos datos se actualizan diariamente.\n",
        "### ¿Qué representan?\n",
        "\n",
        "Los datos se dividen en siete RSS relacionados a temas de economia, mercado, política, tecnología, riqueza industria y ambiente. Cada categoría tiene un número máximo de entradas que se va a actualizando.\n",
        "\n",
        "\n",
        "*   Economía: 16\n",
        "*   Mercado: 30\n",
        "*   Política: 30\n",
        "*   Tecnología: 8\n",
        "*   Riqueza: 2\n",
        "*   Industria: 9\n",
        "*   Ambiente: 12\n",
        "\n",
        "En total, se encontrarían 129 noticias. Sin embargo, puede pasar que una noticia esté en más de un tema. Por tanto, puede que el corpus sea menos dependiendo del día que se evalue.\n"
      ],
      "metadata": {
        "id": "jXFWGuToeDOe"
      }
    },
    {
      "cell_type": "markdown",
      "source": [
        "## Tecnicas a utilizar:\n",
        "1. BertTopic: un modelo de topic modeling que utiliza representaciones de texto generadas por modelos basados en transformers como BERT, RoBERTa o DistilBERT para identificar temas o tópicos dentro de grandes conjuntos de datos textuales. Se basa en la comprensión semántica del texto, permitiendo identificar temas de una manera más precisa y coherente.\n",
        "2. FinBert: una variante de BERT diseñada específicamente para aplicaciones en el campo de las finanzas."
      ],
      "metadata": {
        "id": "NsYu-meVlNAq"
      }
    },
    {
      "cell_type": "markdown",
      "source": [
        "## Desarrollo"
      ],
      "metadata": {
        "id": "NeCj6G4uobte"
      }
    },
    {
      "cell_type": "markdown",
      "source": [
        "### Parte 1: Código de importación de corpus\n",
        "\n"
      ],
      "metadata": {
        "id": "h27Ttw_cxe0M"
      }
    },
    {
      "cell_type": "markdown",
      "source": [
        "Se requieren las librerias de feedparser y bertopic"
      ],
      "metadata": {
        "id": "cGIUCkEP0oVL"
      }
    },
    {
      "cell_type": "code",
      "source": [
        "!pip install feedparser"
      ],
      "metadata": {
        "colab": {
          "base_uri": "https://localhost:8080/"
        },
        "id": "fQ0MaT-ipuLc",
        "outputId": "4cb53c41-6102-46af-9668-67db0ad221b3"
      },
      "execution_count": 1,
      "outputs": [
        {
          "output_type": "stream",
          "name": "stdout",
          "text": [
            "Requirement already satisfied: feedparser in /usr/local/lib/python3.10/dist-packages (6.0.11)\n",
            "Requirement already satisfied: sgmllib3k in /usr/local/lib/python3.10/dist-packages (from feedparser) (1.0.0)\n"
          ]
        }
      ]
    },
    {
      "cell_type": "code",
      "source": [
        "!pip install bertopic"
      ],
      "metadata": {
        "colab": {
          "base_uri": "https://localhost:8080/"
        },
        "id": "HAk4tVHACrpj",
        "outputId": "d73d95ec-fa08-44b5-a2a8-5dafe8bc2c55"
      },
      "execution_count": 2,
      "outputs": [
        {
          "output_type": "stream",
          "name": "stdout",
          "text": [
            "Requirement already satisfied: bertopic in /usr/local/lib/python3.10/dist-packages (0.16.3)\n",
            "Requirement already satisfied: hdbscan>=0.8.29 in /usr/local/lib/python3.10/dist-packages (from bertopic) (0.8.38.post1)\n",
            "Requirement already satisfied: numpy>=1.20.0 in /usr/local/lib/python3.10/dist-packages (from bertopic) (1.26.4)\n",
            "Requirement already satisfied: pandas>=1.1.5 in /usr/local/lib/python3.10/dist-packages (from bertopic) (2.1.4)\n",
            "Requirement already satisfied: plotly>=4.7.0 in /usr/local/lib/python3.10/dist-packages (from bertopic) (5.24.1)\n",
            "Requirement already satisfied: scikit-learn>=0.22.2.post1 in /usr/local/lib/python3.10/dist-packages (from bertopic) (1.5.2)\n",
            "Requirement already satisfied: sentence-transformers>=0.4.1 in /usr/local/lib/python3.10/dist-packages (from bertopic) (3.1.1)\n",
            "Requirement already satisfied: tqdm>=4.41.1 in /usr/local/lib/python3.10/dist-packages (from bertopic) (4.66.5)\n",
            "Requirement already satisfied: umap-learn>=0.5.0 in /usr/local/lib/python3.10/dist-packages (from bertopic) (0.5.6)\n",
            "Requirement already satisfied: scipy>=1.0 in /usr/local/lib/python3.10/dist-packages (from hdbscan>=0.8.29->bertopic) (1.13.1)\n",
            "Requirement already satisfied: joblib>=1.0 in /usr/local/lib/python3.10/dist-packages (from hdbscan>=0.8.29->bertopic) (1.4.2)\n",
            "Requirement already satisfied: python-dateutil>=2.8.2 in /usr/local/lib/python3.10/dist-packages (from pandas>=1.1.5->bertopic) (2.8.2)\n",
            "Requirement already satisfied: pytz>=2020.1 in /usr/local/lib/python3.10/dist-packages (from pandas>=1.1.5->bertopic) (2024.2)\n",
            "Requirement already satisfied: tzdata>=2022.1 in /usr/local/lib/python3.10/dist-packages (from pandas>=1.1.5->bertopic) (2024.1)\n",
            "Requirement already satisfied: tenacity>=6.2.0 in /usr/local/lib/python3.10/dist-packages (from plotly>=4.7.0->bertopic) (9.0.0)\n",
            "Requirement already satisfied: packaging in /usr/local/lib/python3.10/dist-packages (from plotly>=4.7.0->bertopic) (24.1)\n",
            "Requirement already satisfied: threadpoolctl>=3.1.0 in /usr/local/lib/python3.10/dist-packages (from scikit-learn>=0.22.2.post1->bertopic) (3.5.0)\n",
            "Requirement already satisfied: transformers<5.0.0,>=4.38.0 in /usr/local/lib/python3.10/dist-packages (from sentence-transformers>=0.4.1->bertopic) (4.44.2)\n",
            "Requirement already satisfied: torch>=1.11.0 in /usr/local/lib/python3.10/dist-packages (from sentence-transformers>=0.4.1->bertopic) (2.4.1+cu121)\n",
            "Requirement already satisfied: huggingface-hub>=0.19.3 in /usr/local/lib/python3.10/dist-packages (from sentence-transformers>=0.4.1->bertopic) (0.24.7)\n",
            "Requirement already satisfied: Pillow in /usr/local/lib/python3.10/dist-packages (from sentence-transformers>=0.4.1->bertopic) (10.4.0)\n",
            "Requirement already satisfied: numba>=0.51.2 in /usr/local/lib/python3.10/dist-packages (from umap-learn>=0.5.0->bertopic) (0.60.0)\n",
            "Requirement already satisfied: pynndescent>=0.5 in /usr/local/lib/python3.10/dist-packages (from umap-learn>=0.5.0->bertopic) (0.5.13)\n",
            "Requirement already satisfied: filelock in /usr/local/lib/python3.10/dist-packages (from huggingface-hub>=0.19.3->sentence-transformers>=0.4.1->bertopic) (3.16.1)\n",
            "Requirement already satisfied: fsspec>=2023.5.0 in /usr/local/lib/python3.10/dist-packages (from huggingface-hub>=0.19.3->sentence-transformers>=0.4.1->bertopic) (2024.6.1)\n",
            "Requirement already satisfied: pyyaml>=5.1 in /usr/local/lib/python3.10/dist-packages (from huggingface-hub>=0.19.3->sentence-transformers>=0.4.1->bertopic) (6.0.2)\n",
            "Requirement already satisfied: requests in /usr/local/lib/python3.10/dist-packages (from huggingface-hub>=0.19.3->sentence-transformers>=0.4.1->bertopic) (2.32.3)\n",
            "Requirement already satisfied: typing-extensions>=3.7.4.3 in /usr/local/lib/python3.10/dist-packages (from huggingface-hub>=0.19.3->sentence-transformers>=0.4.1->bertopic) (4.12.2)\n",
            "Requirement already satisfied: llvmlite<0.44,>=0.43.0dev0 in /usr/local/lib/python3.10/dist-packages (from numba>=0.51.2->umap-learn>=0.5.0->bertopic) (0.43.0)\n",
            "Requirement already satisfied: six>=1.5 in /usr/local/lib/python3.10/dist-packages (from python-dateutil>=2.8.2->pandas>=1.1.5->bertopic) (1.16.0)\n",
            "Requirement already satisfied: sympy in /usr/local/lib/python3.10/dist-packages (from torch>=1.11.0->sentence-transformers>=0.4.1->bertopic) (1.13.3)\n",
            "Requirement already satisfied: networkx in /usr/local/lib/python3.10/dist-packages (from torch>=1.11.0->sentence-transformers>=0.4.1->bertopic) (3.3)\n",
            "Requirement already satisfied: jinja2 in /usr/local/lib/python3.10/dist-packages (from torch>=1.11.0->sentence-transformers>=0.4.1->bertopic) (3.1.4)\n",
            "Requirement already satisfied: regex!=2019.12.17 in /usr/local/lib/python3.10/dist-packages (from transformers<5.0.0,>=4.38.0->sentence-transformers>=0.4.1->bertopic) (2024.9.11)\n",
            "Requirement already satisfied: safetensors>=0.4.1 in /usr/local/lib/python3.10/dist-packages (from transformers<5.0.0,>=4.38.0->sentence-transformers>=0.4.1->bertopic) (0.4.5)\n",
            "Requirement already satisfied: tokenizers<0.20,>=0.19 in /usr/local/lib/python3.10/dist-packages (from transformers<5.0.0,>=4.38.0->sentence-transformers>=0.4.1->bertopic) (0.19.1)\n",
            "Requirement already satisfied: MarkupSafe>=2.0 in /usr/local/lib/python3.10/dist-packages (from jinja2->torch>=1.11.0->sentence-transformers>=0.4.1->bertopic) (2.1.5)\n",
            "Requirement already satisfied: charset-normalizer<4,>=2 in /usr/local/lib/python3.10/dist-packages (from requests->huggingface-hub>=0.19.3->sentence-transformers>=0.4.1->bertopic) (3.3.2)\n",
            "Requirement already satisfied: idna<4,>=2.5 in /usr/local/lib/python3.10/dist-packages (from requests->huggingface-hub>=0.19.3->sentence-transformers>=0.4.1->bertopic) (3.10)\n",
            "Requirement already satisfied: urllib3<3,>=1.21.1 in /usr/local/lib/python3.10/dist-packages (from requests->huggingface-hub>=0.19.3->sentence-transformers>=0.4.1->bertopic) (2.2.3)\n",
            "Requirement already satisfied: certifi>=2017.4.17 in /usr/local/lib/python3.10/dist-packages (from requests->huggingface-hub>=0.19.3->sentence-transformers>=0.4.1->bertopic) (2024.8.30)\n",
            "Requirement already satisfied: mpmath<1.4,>=1.1.0 in /usr/local/lib/python3.10/dist-packages (from sympy->torch>=1.11.0->sentence-transformers>=0.4.1->bertopic) (1.3.0)\n"
          ]
        }
      ]
    },
    {
      "cell_type": "code",
      "execution_count": 3,
      "metadata": {
        "id": "kUcv4xFZpiLx"
      },
      "outputs": [],
      "source": [
        "import feedparser\n",
        "# import delorean # librería descontinuada\n",
        "import datetime\n",
        "import requests\n",
        "import re\n",
        "import numpy as np\n",
        "import matplotlib.pyplot as plt\n",
        "import pandas as pd"
      ]
    },
    {
      "cell_type": "code",
      "source": [
        "# Se importan las bases de datos en base a los RSS.\n",
        "url_markets = \"https://feeds.bloomberg.com/markets/news.rss\"\n",
        "url_tech = \"https://feeds.bloomberg.com/technology/news.rss\"\n",
        "url_wealth = \"https://feeds.bloomberg.com/wealth/news.rss\"\n",
        "url_pol = \"https://feeds.bloomberg.com/politics/news.rss\"\n",
        "url_eco = \"https://feeds.bloomberg.com/economics/news.rss\"\n",
        "url_ind = \"https://feeds.bloomberg.com/industries/news.rss\"\n",
        "url_green = \"https://feeds.bloomberg.com/green/news.rss\"\n",
        "\n",
        "# Se establecen las categorías establecidas por Bloomberg.\n",
        "\n",
        "category = [\"markets\", \"tech\", \"wealth\", \"pol\", \"eco\", \"ind\", \"green\"]\n",
        "# Se crea un diccionario que se va a llenar con cada categoría\n",
        "newsFeed = {}\n",
        "\n",
        "# Se realiza un loop que 'newsFeed' contenga todos los archivos XML.\n",
        "for i, category in zip(range(7), [\"markets\", \"tech\", \"wealth\", \"pol\", \"eco\", \"ind\", \"green\"]):\n",
        "  newsFeed[i] = feedparser.parse(f\"url_{category}\")\n",
        "\n",
        "# newsFeed = [feedparser.parse(f\"url_{category}\") for category in [\"markets\", \"tech\", \"wealth\", \"pol\", \"eco\", \"ind\", \"green\"]]\n",
        "# newsFeed = feedparser.parse(url_eco)"
      ],
      "metadata": {
        "id": "drCNIA56prrw"
      },
      "execution_count": 4,
      "outputs": []
    },
    {
      "cell_type": "code",
      "source": [
        "# Se hace un feed parser de cada un o por separado\n",
        "newsFeed_1 = feedparser.parse(url_eco)\n",
        "newsFeed_2 = feedparser.parse(url_markets)\n",
        "newsFeed_3 = feedparser.parse(url_pol)\n",
        "newsFeed_4 = feedparser.parse(url_tech)\n",
        "newsFeed_5 = feedparser.parse(url_wealth)\n",
        "newsFeed_6 = feedparser.parse(url_ind)\n",
        "newsFeed_7 = feedparser.parse(url_green)\n",
        "\n",
        "# Se crea una lista con cada XLM de cada sección de noticia.\n",
        "nwsFeed = [newsFeed_1, newsFeed_2, newsFeed_3, newsFeed_4, newsFeed_5, newsFeed_6, newsFeed_7]"
      ],
      "metadata": {
        "id": "sJLzQe4zgvUu"
      },
      "execution_count": 5,
      "outputs": []
    },
    {
      "cell_type": "code",
      "source": [
        "# Se crean resumenes de cada una de los tipos de noticia, considerando la lista de formatos XML, 'nwsFeed'\n",
        "resumenes_1 = [entry.summary for entry in nwsFeed[0].entries]\n",
        "resumenes_2 = [entry.summary for entry in nwsFeed[1].entries]\n",
        "resumenes_3 = [entry.summary for entry in nwsFeed[2].entries]\n",
        "resumenes_4 = [entry.summary for entry in nwsFeed[3].entries]\n",
        "resumenes_5 = [entry.summary for entry in nwsFeed[4].entries]\n",
        "resumenes_6 = [entry.summary for entry in nwsFeed[5].entries]\n",
        "resumenes_7 = [entry.summary for entry in nwsFeed[6].entries]\n",
        "print(len(resumenes_1), len(resumenes_2), len(resumenes_3), len(resumenes_4), len(resumenes_5), len(resumenes_6), len(resumenes_7))\n"
      ],
      "metadata": {
        "colab": {
          "base_uri": "https://localhost:8080/"
        },
        "id": "_AA88_0diCCi",
        "outputId": "b79de854-3e4a-48c1-94cc-b9c244f26623"
      },
      "execution_count": 6,
      "outputs": [
        {
          "output_type": "stream",
          "name": "stdout",
          "text": [
            "20 30 30 8 2 8 14\n"
          ]
        }
      ]
    },
    {
      "cell_type": "code",
      "source": [
        "# Evaluo el número de entradas (noticias) de cada una de las categorías de bloomberg.\n",
        "for i in range(len(nwsFeed[5].entries)):\n",
        "  print(nwsFeed[5].entries[i].summary)"
      ],
      "metadata": {
        "colab": {
          "base_uri": "https://localhost:8080/"
        },
        "id": "ABe1xtwwqHcM",
        "outputId": "042e0232-e78b-46cf-bb51-d0f3933effaa"
      },
      "execution_count": 7,
      "outputs": [
        {
          "output_type": "stream",
          "name": "stdout",
          "text": [
            "Nio Inc. jumped the most in nearly five months Monday after unveiling a cash injection worth 13.3 billion yuan ($1.9 billion) from existing shareholders.\n",
            "SpaceX launched a two-person crew to the International Space Station, the start of a mission to bring home two NASA astronauts stuck in orbit after flying on Boeing Co.’s Starliner spacecraft.\n",
            "Floodwaters from Hurricane Helene have swamped a retired Duke Energy Corp. nuclear power plant, according to a filing with the Florida Department of Environmental Protection, though an escape of contaminated fuel appears unlikely.\n",
            "UBS Group AG Chairman Colm Kelleher said he had underestimated the negative public response to Chief Executive Officer Sergio Ermotti’s 14.4 million Swiss franc ($17.1 million) pay package in 2023.\n",
            "With road transportation accounting for about 15% of greenhouse gas emissions, it’s hard to see how the world will reach its net zero climate goals unless people give up their gasoline and diesel cars.\n",
            "The board of Petroleos Mexicanos is set to consider a Mexico City finance official for the job of chief financial officer at the state-run oil company, according to people with knowledge of the matter.\n",
            "Ralph de la Torre, the controversial chief executive officer of one of the nation’s largest private health systems, Steward Health Care System, will step down from his position Oct. 1.\n",
            "Volkswagen AG cut its guidance for a second time this year, warning that waning demand will undercut the German carmaker’s profitability as it squares off with unions over possible job cuts and unprecedented plant closures.\n"
          ]
        }
      ]
    },
    {
      "cell_type": "code",
      "source": [
        "np.max(len(nwsFeed[1].entries))"
      ],
      "metadata": {
        "colab": {
          "base_uri": "https://localhost:8080/"
        },
        "id": "i9DeNd4--mUE",
        "outputId": "a05e1530-aa84-432e-92f5-6617627a7883"
      },
      "execution_count": 8,
      "outputs": [
        {
          "output_type": "execute_result",
          "data": {
            "text/plain": [
              "30"
            ]
          },
          "metadata": {},
          "execution_count": 8
        }
      ]
    },
    {
      "cell_type": "code",
      "source": [
        "# Se guarda el resumen de cada noticia.\n",
        "resumenes = {}\n",
        "\n",
        "# Se emplea un condicional para asegurar que ninguno de los 'keys' del diccionario se repita\n",
        "for i in list(range(len(nwsFeed))):\n",
        "  for j, entry in zip(range(len(nwsFeed[i].entries)),nwsFeed[i].entries):\n",
        "    if i == 0:\n",
        "       resumenes[j] = entry.summary\n",
        "    else:\n",
        "      resumenes[j+(i)*np.max(len(nwsFeed[i-1].entries))] = entry.summary"
      ],
      "metadata": {
        "id": "JuV9f7qLqKMS"
      },
      "execution_count": 26,
      "outputs": []
    },
    {
      "cell_type": "code",
      "source": [
        "len(resumenes.keys())"
      ],
      "metadata": {
        "colab": {
          "base_uri": "https://localhost:8080/"
        },
        "id": "JXvIxMeoqdWW",
        "outputId": "d1b9a7e6-ead9-401e-b0d4-4be2f200c815"
      },
      "execution_count": 28,
      "outputs": [
        {
          "output_type": "execute_result",
          "data": {
            "text/plain": [
              "98"
            ]
          },
          "metadata": {},
          "execution_count": 28
        }
      ]
    },
    {
      "cell_type": "code",
      "source": [
        "# Se obtiene obtiene una lista de los outputs\n",
        "l = resumenes.keys()\n",
        "resumenes = list(map(resumenes.get, l))"
      ],
      "metadata": {
        "id": "1ezvRRuYCEso"
      },
      "execution_count": 29,
      "outputs": []
    },
    {
      "cell_type": "code",
      "source": [
        "# Se considera una nueva lista que se apendea si la noticia no se ha incorporado anteriormente en la anterior iteración.\n",
        "unique_resumenes = []\n",
        "[unique_resumenes.append(resumen) for resumen in resumenes if resumen not in unique_resumenes]\n",
        "print(len(unique_resumenes))\n"
      ],
      "metadata": {
        "colab": {
          "base_uri": "https://localhost:8080/"
        },
        "id": "DeceYRMUKNS1",
        "outputId": "eedc8af2-9418-4eda-803e-351c71fcd1f7"
      },
      "execution_count": 30,
      "outputs": [
        {
          "output_type": "stream",
          "name": "stdout",
          "text": [
            "86\n"
          ]
        }
      ]
    },
    {
      "cell_type": "markdown",
      "source": [
        "## Parte 2: Código de despliegue de modelo"
      ],
      "metadata": {
        "id": "iX07yKLT_1ku"
      }
    },
    {
      "cell_type": "code",
      "source": [
        "import torch\n",
        "from transformers import BertTokenizer, BertForSequenceClassification\n",
        "from torch.nn.functional import softmax"
      ],
      "metadata": {
        "id": "jpNJZ61To0pG"
      },
      "execution_count": 13,
      "outputs": []
    },
    {
      "cell_type": "code",
      "source": [
        "# Inicializar el modelo de BERT en transformers.\n",
        "from bertopic import BERTopic\n",
        "from sentence_transformers import SentenceTransformer\n",
        "sentence_model = SentenceTransformer(\"distiluse-base-multilingual-cased-v1\")"
      ],
      "metadata": {
        "id": "22-Ngig_C6MK"
      },
      "execution_count": 14,
      "outputs": []
    },
    {
      "cell_type": "code",
      "source": [
        "# Inicializar y entrenar el modelo BERTopic\n",
        "# Creamos una instancia del modelo BERTopic utilizando un modelo de embeddings basado en transformers (por ejemplo, BERT).\n",
        "# El parámetro embedding_model indica el modelo de embeddings que convierte los textos en vectores.\n",
        "# min_topic_size se establece en 2 para permitir que los temas identificados tengan un tamaño mínimo de 2 documentos, permitiendo temas más pequeños.\n",
        "topic_model = BERTopic(embedding_model=sentence_model, min_topic_size=2)\n",
        "\n",
        "# Entrenamos el modelo con los resúmenes únicos. El método fit_transform devuelve una lista 'topics' con el tema asignado a cada documento.\n",
        "# El segundo valor que devuelve el método fit_transform lo descartamos con el símbolo de guion bajo (_).\n",
        "topics, _ = topic_model.fit_transform(unique_resumenes)\n",
        "\n",
        "# Obtener los temas más representativos\n",
        "# La función get_topic_info() nos da un resumen de los temas encontrados. Esta tabla incluye el número del tema, su frecuencia y las palabras clave más relevantes para cada tema.\n",
        "print(topic_model.get_topic_info())\n",
        "\n",
        "# Obtener el número total de temas\n",
        "# Aquí estamos calculando cuántos temas fueron generados en total. La función get_topic_info() nos devuelve una lista de tópicos y, con len(), obtenemos la cantidad de elementos en esa lista.\n",
        "num_topics = len(topic_model.get_topic_info())\n",
        "print(f\"Number of topics: {num_topics}\")\n",
        "\n",
        "# Visualizar los temas más representativos\n",
        "# Visualizamos los 5 teemas más importantes en una representación gráfica. Esta visualización interactiva permite explorar las relaciones y distancias entre los diferentes temas identificados.\n",
        "topic_model.visualize_topics(top_n_topics=5)\n",
        "\n",
        "# Para ver las palabras más relevantes de un tópico específico (por ejemplo, el tema 0)\n",
        "# La función get_topic() devuelve las palabras clave más representativas de una categoría en particular. En este caso, mostramos las palabras del tema 0.\n",
        "print(topic_model.get_topic(0))\n",
        "\n",
        "# Para ver en qué tema se clasifica cada titular (resumen)\n",
        "# Recorremos la lista de resúmenes (resumenes) con enumerate() para obtener tanto el índice como el resumen.\n",
        "# Usamos topics[i] para acceder al tema asignado a cada resumen y lo imprimimos junto con el texto original del resumen.\n",
        "# Solo mostramos los primeros 10 resúmenes para mantener el ejemplo corto.\n",
        "for i, headline in enumerate(resumenes):\n",
        "    print(f\"Titular: {headline}\")\n",
        "    print(f\"Tópico: {topics[i]}\")\n",
        "    print(\"---\")\n"
      ],
      "metadata": {
        "colab": {
          "base_uri": "https://localhost:8080/"
        },
        "id": "hinWVRE04LI1",
        "outputId": "5f4e5521-3d84-4c00-8522-9ac78974b59e"
      },
      "execution_count": 15,
      "outputs": [
        {
          "output_type": "stream",
          "name": "stdout",
          "text": [
            "    Topic  Count                                 Name  \\\n",
            "0      -1     15                     -1_of_the_to_and   \n",
            "1       0     18                   0_the_party_of_for   \n",
            "2       1     14                      1_and_the_as_at   \n",
            "3       2      7     2_in_and_artificial_intelligence   \n",
            "4       3      7                  3_chinese_to_in_the   \n",
            "5       4      6                 4_budget_the_to_2025   \n",
            "6       5      6            5_japanese_over_after_inc   \n",
            "7       6      4       6_interest_the_reserve_federal   \n",
            "8       7      4  7_hezbollah_leader_hassan_nasrallah   \n",
            "9       8      3                8_iran_israel_it_said   \n",
            "10      9      2    9_ringgit_stronger_relying_bounce   \n",
            "\n",
            "                                       Representation  \\\n",
            "0   [of, the, to, and, chief, biggest, in, for, it...   \n",
            "1   [the, party, of, for, on, to, minister, trump,...   \n",
            "2   [and, the, as, at, nbsp, people, hurricane, he...   \n",
            "3   [in, and, artificial, intelligence, bloomberg,...   \n",
            "4   [chinese, to, in, the, most, stocks, country, ...   \n",
            "5   [budget, the, to, 2025, deficit, million, 17, ...   \n",
            "6   [japanese, over, after, inc, carmaker, second,...   \n",
            "7   [interest, the, reserve, federal, rate, week, ...   \n",
            "8   [hezbollah, leader, hassan, nasrallah, killing...   \n",
            "9   [iran, israel, it, said, yemen, weapons, stock...   \n",
            "10  [ringgit, stronger, relying, bounce, performin...   \n",
            "\n",
            "                                  Representative_Docs  \n",
            "0   [Meta’s latest AR glasses and cheaper mixed-re...  \n",
            "1   [The leader of Austria’s far-right Freedom Par...  \n",
            "2   [KATHMANDU, Nepal (AP) &mdash; Flooding and la...  \n",
            "3   [Chinese policymakers will study new increment...  \n",
            "4   [Chinese cities ease homebuying rules. Hong Ko...  \n",
            "5   [SpaceX launched a two-person crew to the Inte...  \n",
            "6   [Japanese stocks tumbled after Shigeru Ishiba’...  \n",
            "7   [The Korean won is poised to strengthen toward...  \n",
            "8   [Oil steadied after Israel’s killing of Hezbol...  \n",
            "9   [Ukraine said it struck a stockpile of weapons...  \n",
            "10  [Singapore’s stagnant initial public offering ...  \n",
            "Number of topics: 11\n",
            "[('the', 0.0632602190919076), ('party', 0.05677490387489403), ('of', 0.04383855337040891), ('for', 0.03450050726130043), ('on', 0.03362616531708109), ('to', 0.03263727029179681), ('minister', 0.03204413707215085), ('trump', 0.030721626410162284), ('in', 0.0306442105138523), ('his', 0.029166944903631167)]\n",
            "Titular: Thailand Prime Minister Paetongtarn Shinawatra’s popularity surged in the latest survey as the new government approved its version of a cash handout program.\n",
            "Tópico: 6\n",
            "---\n",
            "Titular: Japan’s next prime minister, Shigeru Ishiba, is set to name party veterans to senior posts in his cabinet as he broadly pursues continuity in economic, monetary and foreign policy, and prepares for an expected early general election.\n",
            "Tópico: -1\n",
            "---\n",
            "Titular: China’s factory activity contracted for a fifth straight month in September, a further sign of economic weakness that highlights the urgency for Beijing’s stimulus blitz.\n",
            "Tópico: -1\n",
            "---\n",
            "Titular: Key industry and government officials are urging US dockworkers and their employers to avoid a strike at East and Gulf coast ports this week, though many facilities are already bracing for a shutdown.\n",
            "Tópico: 1\n",
            "---\n",
            "Titular: Chile President Gabriel Boric unveiled the 2025 budget proposal with a 2.7% increase in spending and a strong focus on fighting crime, a topic that represents voters’ top concern heading into an election year.\n",
            "Tópico: 4\n",
            "---\n",
            "Titular: Austria’s traditional political powers are pledging to block the far-right Freedom Party from forming a government following Sunday’s national elections, marking the latest effort to stem the rising tide of populism in Europe.\n",
            "Tópico: 0\n",
            "---\n",
            "Titular: <p>Plus, a conversation with the finance chief of&nbsp;South Africa’s largest gold miner.&nbsp;&nbsp;</p>\n",
            "Tópico: -1\n",
            "---\n",
            "Titular: The appetite of Federal Reserve policymakers for another large interest-rate cut in November may come into better focus in the coming week as Jerome Powell addresses economists and the government issues new employment numbers.\n",
            "Tópico: 6\n",
            "---\n",
            "Titular: Chinese policymakers will study new incremental economic policies in a “timely manner” and listen to opinions from all sides to build consensus and confidence, according to a speech by Premier Li Qiang that was reported by China Central Television.\n",
            "Tópico: 2\n",
            "---\n",
            "Titular: The French government is weighing fresh taxes on corporates to cut the country’s budget deficit, newspaper Le Monde reported.\n",
            "Tópico: 4\n",
            "---\n"
          ]
        }
      ]
    },
    {
      "cell_type": "code",
      "source": [
        "import pandas as pd\n",
        "df = pd.DataFrame({'text': unique_resumenes, 'topic': topics})\n",
        "df.head()\n",
        "df.sort_values(by='topic')"
      ],
      "metadata": {
        "colab": {
          "base_uri": "https://localhost:8080/",
          "height": 423
        },
        "id": "EI9EnD49Gr02",
        "outputId": "c7fc40d5-ccc0-4112-dfcd-a6cdcb1fc29d"
      },
      "execution_count": 16,
      "outputs": [
        {
          "output_type": "execute_result",
          "data": {
            "text/plain": [
              "                                                 text  topic\n",
              "76  Meta’s latest AR glasses and cheaper mixed-rea...     -1\n",
              "15  The board of Petroleos Mexicanos is set to con...     -1\n",
              "18  Britons are indulging in small mood boosters a...     -1\n",
              "32  Iron ore spiked almost 11% after three of Chin...     -1\n",
              "77  French football star Kylian Mbappe has acquire...     -1\n",
              "..                                                ...    ...\n",
              "61  Ukraine said it struck a stockpile of weapons ...      8\n",
              "60  US Defense Secretary Lloyd Austin warned Iran ...      8\n",
              "57  Israeli fighter jets bombed a seaport and seve...      8\n",
              "34  Singapore’s stagnant initial public offering m...      9\n",
              "37  Malaysia’s consumer stocks are set for a bounc...      9\n",
              "\n",
              "[86 rows x 2 columns]"
            ],
            "text/html": [
              "\n",
              "  <div id=\"df-1002b3f6-b3ce-46a3-b382-d1c0732acb9b\" class=\"colab-df-container\">\n",
              "    <div>\n",
              "<style scoped>\n",
              "    .dataframe tbody tr th:only-of-type {\n",
              "        vertical-align: middle;\n",
              "    }\n",
              "\n",
              "    .dataframe tbody tr th {\n",
              "        vertical-align: top;\n",
              "    }\n",
              "\n",
              "    .dataframe thead th {\n",
              "        text-align: right;\n",
              "    }\n",
              "</style>\n",
              "<table border=\"1\" class=\"dataframe\">\n",
              "  <thead>\n",
              "    <tr style=\"text-align: right;\">\n",
              "      <th></th>\n",
              "      <th>text</th>\n",
              "      <th>topic</th>\n",
              "    </tr>\n",
              "  </thead>\n",
              "  <tbody>\n",
              "    <tr>\n",
              "      <th>76</th>\n",
              "      <td>Meta’s latest AR glasses and cheaper mixed-rea...</td>\n",
              "      <td>-1</td>\n",
              "    </tr>\n",
              "    <tr>\n",
              "      <th>15</th>\n",
              "      <td>The board of Petroleos Mexicanos is set to con...</td>\n",
              "      <td>-1</td>\n",
              "    </tr>\n",
              "    <tr>\n",
              "      <th>18</th>\n",
              "      <td>Britons are indulging in small mood boosters a...</td>\n",
              "      <td>-1</td>\n",
              "    </tr>\n",
              "    <tr>\n",
              "      <th>32</th>\n",
              "      <td>Iron ore spiked almost 11% after three of Chin...</td>\n",
              "      <td>-1</td>\n",
              "    </tr>\n",
              "    <tr>\n",
              "      <th>77</th>\n",
              "      <td>French football star Kylian Mbappe has acquire...</td>\n",
              "      <td>-1</td>\n",
              "    </tr>\n",
              "    <tr>\n",
              "      <th>...</th>\n",
              "      <td>...</td>\n",
              "      <td>...</td>\n",
              "    </tr>\n",
              "    <tr>\n",
              "      <th>61</th>\n",
              "      <td>Ukraine said it struck a stockpile of weapons ...</td>\n",
              "      <td>8</td>\n",
              "    </tr>\n",
              "    <tr>\n",
              "      <th>60</th>\n",
              "      <td>US Defense Secretary Lloyd Austin warned Iran ...</td>\n",
              "      <td>8</td>\n",
              "    </tr>\n",
              "    <tr>\n",
              "      <th>57</th>\n",
              "      <td>Israeli fighter jets bombed a seaport and seve...</td>\n",
              "      <td>8</td>\n",
              "    </tr>\n",
              "    <tr>\n",
              "      <th>34</th>\n",
              "      <td>Singapore’s stagnant initial public offering m...</td>\n",
              "      <td>9</td>\n",
              "    </tr>\n",
              "    <tr>\n",
              "      <th>37</th>\n",
              "      <td>Malaysia’s consumer stocks are set for a bounc...</td>\n",
              "      <td>9</td>\n",
              "    </tr>\n",
              "  </tbody>\n",
              "</table>\n",
              "<p>86 rows × 2 columns</p>\n",
              "</div>\n",
              "    <div class=\"colab-df-buttons\">\n",
              "\n",
              "  <div class=\"colab-df-container\">\n",
              "    <button class=\"colab-df-convert\" onclick=\"convertToInteractive('df-1002b3f6-b3ce-46a3-b382-d1c0732acb9b')\"\n",
              "            title=\"Convert this dataframe to an interactive table.\"\n",
              "            style=\"display:none;\">\n",
              "\n",
              "  <svg xmlns=\"http://www.w3.org/2000/svg\" height=\"24px\" viewBox=\"0 -960 960 960\">\n",
              "    <path d=\"M120-120v-720h720v720H120Zm60-500h600v-160H180v160Zm220 220h160v-160H400v160Zm0 220h160v-160H400v160ZM180-400h160v-160H180v160Zm440 0h160v-160H620v160ZM180-180h160v-160H180v160Zm440 0h160v-160H620v160Z\"/>\n",
              "  </svg>\n",
              "    </button>\n",
              "\n",
              "  <style>\n",
              "    .colab-df-container {\n",
              "      display:flex;\n",
              "      gap: 12px;\n",
              "    }\n",
              "\n",
              "    .colab-df-convert {\n",
              "      background-color: #E8F0FE;\n",
              "      border: none;\n",
              "      border-radius: 50%;\n",
              "      cursor: pointer;\n",
              "      display: none;\n",
              "      fill: #1967D2;\n",
              "      height: 32px;\n",
              "      padding: 0 0 0 0;\n",
              "      width: 32px;\n",
              "    }\n",
              "\n",
              "    .colab-df-convert:hover {\n",
              "      background-color: #E2EBFA;\n",
              "      box-shadow: 0px 1px 2px rgba(60, 64, 67, 0.3), 0px 1px 3px 1px rgba(60, 64, 67, 0.15);\n",
              "      fill: #174EA6;\n",
              "    }\n",
              "\n",
              "    .colab-df-buttons div {\n",
              "      margin-bottom: 4px;\n",
              "    }\n",
              "\n",
              "    [theme=dark] .colab-df-convert {\n",
              "      background-color: #3B4455;\n",
              "      fill: #D2E3FC;\n",
              "    }\n",
              "\n",
              "    [theme=dark] .colab-df-convert:hover {\n",
              "      background-color: #434B5C;\n",
              "      box-shadow: 0px 1px 3px 1px rgba(0, 0, 0, 0.15);\n",
              "      filter: drop-shadow(0px 1px 2px rgba(0, 0, 0, 0.3));\n",
              "      fill: #FFFFFF;\n",
              "    }\n",
              "  </style>\n",
              "\n",
              "    <script>\n",
              "      const buttonEl =\n",
              "        document.querySelector('#df-1002b3f6-b3ce-46a3-b382-d1c0732acb9b button.colab-df-convert');\n",
              "      buttonEl.style.display =\n",
              "        google.colab.kernel.accessAllowed ? 'block' : 'none';\n",
              "\n",
              "      async function convertToInteractive(key) {\n",
              "        const element = document.querySelector('#df-1002b3f6-b3ce-46a3-b382-d1c0732acb9b');\n",
              "        const dataTable =\n",
              "          await google.colab.kernel.invokeFunction('convertToInteractive',\n",
              "                                                    [key], {});\n",
              "        if (!dataTable) return;\n",
              "\n",
              "        const docLinkHtml = 'Like what you see? Visit the ' +\n",
              "          '<a target=\"_blank\" href=https://colab.research.google.com/notebooks/data_table.ipynb>data table notebook</a>'\n",
              "          + ' to learn more about interactive tables.';\n",
              "        element.innerHTML = '';\n",
              "        dataTable['output_type'] = 'display_data';\n",
              "        await google.colab.output.renderOutput(dataTable, element);\n",
              "        const docLink = document.createElement('div');\n",
              "        docLink.innerHTML = docLinkHtml;\n",
              "        element.appendChild(docLink);\n",
              "      }\n",
              "    </script>\n",
              "  </div>\n",
              "\n",
              "\n",
              "<div id=\"df-758554c7-8c10-4159-a09a-81333d6faf78\">\n",
              "  <button class=\"colab-df-quickchart\" onclick=\"quickchart('df-758554c7-8c10-4159-a09a-81333d6faf78')\"\n",
              "            title=\"Suggest charts\"\n",
              "            style=\"display:none;\">\n",
              "\n",
              "<svg xmlns=\"http://www.w3.org/2000/svg\" height=\"24px\"viewBox=\"0 0 24 24\"\n",
              "     width=\"24px\">\n",
              "    <g>\n",
              "        <path d=\"M19 3H5c-1.1 0-2 .9-2 2v14c0 1.1.9 2 2 2h14c1.1 0 2-.9 2-2V5c0-1.1-.9-2-2-2zM9 17H7v-7h2v7zm4 0h-2V7h2v10zm4 0h-2v-4h2v4z\"/>\n",
              "    </g>\n",
              "</svg>\n",
              "  </button>\n",
              "\n",
              "<style>\n",
              "  .colab-df-quickchart {\n",
              "      --bg-color: #E8F0FE;\n",
              "      --fill-color: #1967D2;\n",
              "      --hover-bg-color: #E2EBFA;\n",
              "      --hover-fill-color: #174EA6;\n",
              "      --disabled-fill-color: #AAA;\n",
              "      --disabled-bg-color: #DDD;\n",
              "  }\n",
              "\n",
              "  [theme=dark] .colab-df-quickchart {\n",
              "      --bg-color: #3B4455;\n",
              "      --fill-color: #D2E3FC;\n",
              "      --hover-bg-color: #434B5C;\n",
              "      --hover-fill-color: #FFFFFF;\n",
              "      --disabled-bg-color: #3B4455;\n",
              "      --disabled-fill-color: #666;\n",
              "  }\n",
              "\n",
              "  .colab-df-quickchart {\n",
              "    background-color: var(--bg-color);\n",
              "    border: none;\n",
              "    border-radius: 50%;\n",
              "    cursor: pointer;\n",
              "    display: none;\n",
              "    fill: var(--fill-color);\n",
              "    height: 32px;\n",
              "    padding: 0;\n",
              "    width: 32px;\n",
              "  }\n",
              "\n",
              "  .colab-df-quickchart:hover {\n",
              "    background-color: var(--hover-bg-color);\n",
              "    box-shadow: 0 1px 2px rgba(60, 64, 67, 0.3), 0 1px 3px 1px rgba(60, 64, 67, 0.15);\n",
              "    fill: var(--button-hover-fill-color);\n",
              "  }\n",
              "\n",
              "  .colab-df-quickchart-complete:disabled,\n",
              "  .colab-df-quickchart-complete:disabled:hover {\n",
              "    background-color: var(--disabled-bg-color);\n",
              "    fill: var(--disabled-fill-color);\n",
              "    box-shadow: none;\n",
              "  }\n",
              "\n",
              "  .colab-df-spinner {\n",
              "    border: 2px solid var(--fill-color);\n",
              "    border-color: transparent;\n",
              "    border-bottom-color: var(--fill-color);\n",
              "    animation:\n",
              "      spin 1s steps(1) infinite;\n",
              "  }\n",
              "\n",
              "  @keyframes spin {\n",
              "    0% {\n",
              "      border-color: transparent;\n",
              "      border-bottom-color: var(--fill-color);\n",
              "      border-left-color: var(--fill-color);\n",
              "    }\n",
              "    20% {\n",
              "      border-color: transparent;\n",
              "      border-left-color: var(--fill-color);\n",
              "      border-top-color: var(--fill-color);\n",
              "    }\n",
              "    30% {\n",
              "      border-color: transparent;\n",
              "      border-left-color: var(--fill-color);\n",
              "      border-top-color: var(--fill-color);\n",
              "      border-right-color: var(--fill-color);\n",
              "    }\n",
              "    40% {\n",
              "      border-color: transparent;\n",
              "      border-right-color: var(--fill-color);\n",
              "      border-top-color: var(--fill-color);\n",
              "    }\n",
              "    60% {\n",
              "      border-color: transparent;\n",
              "      border-right-color: var(--fill-color);\n",
              "    }\n",
              "    80% {\n",
              "      border-color: transparent;\n",
              "      border-right-color: var(--fill-color);\n",
              "      border-bottom-color: var(--fill-color);\n",
              "    }\n",
              "    90% {\n",
              "      border-color: transparent;\n",
              "      border-bottom-color: var(--fill-color);\n",
              "    }\n",
              "  }\n",
              "</style>\n",
              "\n",
              "  <script>\n",
              "    async function quickchart(key) {\n",
              "      const quickchartButtonEl =\n",
              "        document.querySelector('#' + key + ' button');\n",
              "      quickchartButtonEl.disabled = true;  // To prevent multiple clicks.\n",
              "      quickchartButtonEl.classList.add('colab-df-spinner');\n",
              "      try {\n",
              "        const charts = await google.colab.kernel.invokeFunction(\n",
              "            'suggestCharts', [key], {});\n",
              "      } catch (error) {\n",
              "        console.error('Error during call to suggestCharts:', error);\n",
              "      }\n",
              "      quickchartButtonEl.classList.remove('colab-df-spinner');\n",
              "      quickchartButtonEl.classList.add('colab-df-quickchart-complete');\n",
              "    }\n",
              "    (() => {\n",
              "      let quickchartButtonEl =\n",
              "        document.querySelector('#df-758554c7-8c10-4159-a09a-81333d6faf78 button');\n",
              "      quickchartButtonEl.style.display =\n",
              "        google.colab.kernel.accessAllowed ? 'block' : 'none';\n",
              "    })();\n",
              "  </script>\n",
              "</div>\n",
              "\n",
              "    </div>\n",
              "  </div>\n"
            ],
            "application/vnd.google.colaboratory.intrinsic+json": {
              "type": "dataframe",
              "summary": "{\n  \"name\": \"df\",\n  \"rows\": 86,\n  \"fields\": [\n    {\n      \"column\": \"text\",\n      \"properties\": {\n        \"dtype\": \"string\",\n        \"num_unique_values\": 86,\n        \"samples\": [\n          \"The Korean won is poised to strengthen toward a key level, supported by ongoing bond inflows and expectations the central bank will refrain from cutting interest rates next week.\",\n          \"Meta\\u2019s latest AR glasses and cheaper mixed-reality headset add\\u00a0pressure on Apple to make its Vision push work. Also: Apple ramps up work on a new smart home lineup, and there\\u2019s fresh hope that the blood-oxygen feature will return to its watch.\",\n          \"Volkswagen AG cut its guidance for a second time this year, warning that waning demand will undercut the German carmaker\\u2019s profitability as it squares off with unions over possible job cuts and unprecedented plant closures.\"\n        ],\n        \"semantic_type\": \"\",\n        \"description\": \"\"\n      }\n    },\n    {\n      \"column\": \"topic\",\n      \"properties\": {\n        \"dtype\": \"number\",\n        \"std\": 2,\n        \"min\": -1,\n        \"max\": 9,\n        \"num_unique_values\": 11,\n        \"samples\": [\n          4,\n          -1,\n          8\n        ],\n        \"semantic_type\": \"\",\n        \"description\": \"\"\n      }\n    }\n  ]\n}"
            }
          },
          "metadata": {},
          "execution_count": 16
        }
      ]
    },
    {
      "cell_type": "code",
      "source": [
        "frec = [topics.count(i) for i in range(-1,10)]"
      ],
      "metadata": {
        "id": "voeGS8WAMwf-"
      },
      "execution_count": 36,
      "outputs": []
    },
    {
      "cell_type": "code",
      "source": [
        "# Hacemos una gráfica de barras para ver cuál es la categoría moda.\n",
        "fig, ax = plt.subplots()\n",
        "ax.bar([-1,0,1,2,3,4,5,6,7,8,9], frec)"
      ],
      "metadata": {
        "colab": {
          "base_uri": "https://localhost:8080/",
          "height": 447
        },
        "id": "kwLaGo4MLHZJ",
        "outputId": "0d8c77d6-73cf-48ec-e0c0-b05aef3ab6ec"
      },
      "execution_count": 37,
      "outputs": [
        {
          "output_type": "execute_result",
          "data": {
            "text/plain": [
              "<BarContainer object of 11 artists>"
            ]
          },
          "metadata": {},
          "execution_count": 37
        },
        {
          "output_type": "display_data",
          "data": {
            "text/plain": [
              "<Figure size 640x480 with 1 Axes>"
            ],
            "image/png": "[encoded data removed]"
          },
          "metadata": {}
        }
      ]
    },
    {
      "cell_type": "code",
      "source": [
        "from transformers import BertTokenizer, BertForSequenceClassification\n",
        "import torch\n",
        "\n",
        "# Cargar el tokenizador y el modelo FinBERT para clasificación\n",
        "tokenizer = BertTokenizer.from_pretrained(\"yiyanghkust/finbert-tone\")\n",
        "model = BertForSequenceClassification.from_pretrained(\"yiyanghkust/finbert-tone\")"
      ],
      "metadata": {
        "id": "F7CdOrgsOuCq"
      },
      "execution_count": 19,
      "outputs": []
    },
    {
      "cell_type": "code",
      "source": [
        "def analizar_sentimiento(texto):\n",
        "    # Tokenizar el texto\n",
        "    inputs = tokenizer(texto, return_tensors=\"pt\", truncation=True, padding=True, max_length=512)\n",
        "\n",
        "    # Realizar la inferencia\n",
        "    with torch.no_grad():\n",
        "        outputs = model(**inputs)\n",
        "\n",
        "    # Obtener las probabilidades\n",
        "    probs = softmax(outputs.logits, dim=1)\n",
        "\n",
        "    # El modelo está entrenado para 5 clases: de 1 estrella (muy negativo) a 5 estrellas (muy positivo)\n",
        "    sentimiento = torch.argmax(probs).item() + 1\n",
        "\n",
        "    return sentimiento, probs.squeeze().tolist()"
      ],
      "metadata": {
        "id": "QZpx0zFtPtny"
      },
      "execution_count": 20,
      "outputs": []
    },
    {
      "cell_type": "code",
      "source": [
        "for texto in unique_resumenes:\n",
        "    sentimiento, probs = analizar_sentimiento(texto)\n",
        "    print(f\"Texto: {texto}\")\n",
        "    print(f\"Sentimiento: {sentimiento} estrellas\")\n",
        "    print(f\"Probabilidades: {probs}\")\n",
        "    print()\n",
        "\n",
        "for texto in unique_resumenes:\n",
        "    sentimiento, probs = analizar_sentimiento(texto)\n",
        "    if sentimiento == '1 estrella':\n",
        "        print(f\"Texto: {texto}\")\n",
        "        print(f\"Sentimiento: {sentimiento}\")\n",
        "        print(f\"Probabilidades: {probs}\")\n",
        "        print()\n"
      ],
      "metadata": {
        "colab": {
          "base_uri": "https://localhost:8080/"
        },
        "id": "YLjF-X6EQvLg",
        "outputId": "320a9b23-d400-4426-d5d0-21513a2b6f35"
      },
      "execution_count": 21,
      "outputs": [
        {
          "output_type": "stream",
          "name": "stdout",
          "text": [
            "Texto: Thailand Prime Minister Paetongtarn Shinawatra’s popularity surged in the latest survey as the new government approved its version of a cash handout program.\n",
            "Sentimiento: 2 estrellas\n",
            "Probabilidades: [8.700770558789372e-05, 0.9999085664749146, 4.454158897715388e-06]\n",
            "\n",
            "Texto: Japan’s next prime minister, Shigeru Ishiba, is set to name party veterans to senior posts in his cabinet as he broadly pursues continuity in economic, monetary and foreign policy, and prepares for an expected early general election.\n",
            "Sentimiento: 1 estrellas\n",
            "Probabilidades: [0.9999966621398926, 8.360894980796729e-07, 2.4977332486741943e-06]\n",
            "\n",
            "Texto: China’s factory activity contracted for a fifth straight month in September, a further sign of economic weakness that highlights the urgency for Beijing’s stimulus blitz.\n",
            "Sentimiento: 3 estrellas\n",
            "Probabilidades: [2.055896766250953e-05, 8.616716513643041e-05, 0.999893307685852]\n",
            "\n",
            "Texto: Key industry and government officials are urging US dockworkers and their employers to avoid a strike at East and Gulf coast ports this week, though many facilities are already bracing for a shutdown.\n",
            "Sentimiento: 3 estrellas\n",
            "Probabilidades: [0.4015830457210541, 1.4099140571488533e-05, 0.5984029173851013]\n",
            "\n",
            "Texto: Chile President Gabriel Boric unveiled the 2025 budget proposal with a 2.7% increase in spending and a strong focus on fighting crime, a topic that represents voters’ top concern heading into an election year.\n",
            "Sentimiento: 2 estrellas\n",
            "Probabilidades: [0.0034268107265233994, 0.9965524673461914, 2.068220237561036e-05]\n",
            "\n",
            "Texto: Austria’s traditional political powers are pledging to block the far-right Freedom Party from forming a government following Sunday’s national elections, marking the latest effort to stem the rising tide of populism in Europe.\n",
            "Sentimiento: 1 estrellas\n",
            "Probabilidades: [0.9104679226875305, 0.08336857706308365, 0.006163519341498613]\n",
            "\n",
            "Texto: <p>Plus, a conversation with the finance chief of&nbsp;South Africa’s largest gold miner.&nbsp;&nbsp;</p>\n",
            "Sentimiento: 1 estrellas\n",
            "Probabilidades: [0.999992847442627, 4.9082473196904175e-06, 2.25180610868847e-06]\n",
            "\n",
            "Texto: The appetite of Federal Reserve policymakers for another large interest-rate cut in November may come into better focus in the coming week as Jerome Powell addresses economists and the government issues new employment numbers.\n",
            "Sentimiento: 1 estrellas\n",
            "Probabilidades: [0.8170956373214722, 0.16674040257930756, 0.016163980588316917]\n",
            "\n",
            "Texto: Chinese policymakers will study new incremental economic policies in a “timely manner” and listen to opinions from all sides to build consensus and confidence, according to a speech by Premier Li Qiang that was reported by China Central Television.\n",
            "Sentimiento: 1 estrellas\n",
            "Probabilidades: [0.5364017486572266, 0.4634908437728882, 0.00010742494487203658]\n",
            "\n",
            "Texto: The French government is weighing fresh taxes on corporates to cut the country’s budget deficit, newspaper Le Monde reported.\n",
            "Sentimiento: 1 estrellas\n",
            "Probabilidades: [0.964451253414154, 2.7441019483376294e-05, 0.03552128002047539]\n",
            "\n",
            "Texto: Nio Inc. jumped the most in nearly five months Monday after unveiling a cash injection worth 13.3 billion yuan ($1.9 billion) from existing shareholders.\n",
            "Sentimiento: 2 estrellas\n",
            "Probabilidades: [9.7298740001861e-05, 0.9999024868011475, 2.2777167885124072e-07]\n",
            "\n",
            "Texto: SpaceX launched a two-person crew to the International Space Station, the start of a mission to bring home two NASA astronauts stuck in orbit after flying on Boeing Co.’s Starliner spacecraft.\n",
            "Sentimiento: 1 estrellas\n",
            "Probabilidades: [0.9998979568481445, 3.9248458051588386e-05, 6.280397064983845e-05]\n",
            "\n",
            "Texto: Floodwaters from Hurricane Helene have swamped a retired Duke Energy Corp. nuclear power plant, according to a filing with the Florida Department of Environmental Protection, though an escape of contaminated fuel appears unlikely.\n",
            "Sentimiento: 3 estrellas\n",
            "Probabilidades: [2.9879422072554007e-05, 4.3426360207377e-05, 0.9999266862869263]\n",
            "\n",
            "Texto: UBS Group AG Chairman Colm Kelleher said he had underestimated the negative public response to Chief Executive Officer Sergio Ermotti’s 14.4 million Swiss franc ($17.1 million) pay package in 2023.\n",
            "Sentimiento: 3 estrellas\n",
            "Probabilidades: [4.069714486831799e-05, 6.51845812171814e-06, 0.9999527931213379]\n",
            "\n",
            "Texto: With road transportation accounting for about 15% of greenhouse gas emissions, it’s hard to see how the world will reach its net zero climate goals unless people give up their gasoline and diesel cars.\n",
            "Sentimiento: 1 estrellas\n",
            "Probabilidades: [0.9967383742332458, 1.6515557490492938e-06, 0.003259962657466531]\n",
            "\n",
            "Texto: The board of Petroleos Mexicanos is set to consider a Mexico City finance official for the job of chief financial officer at the state-run oil company, according to people with knowledge of the matter.\n",
            "Sentimiento: 1 estrellas\n",
            "Probabilidades: [0.9999979734420776, 9.33452994900108e-08, 1.8883469010688714e-06]\n",
            "\n",
            "Texto: Ralph de la Torre, the controversial chief executive officer of one of the nation’s largest private health systems, Steward Health Care System, will step down from his position Oct. 1.\n",
            "Sentimiento: 1 estrellas\n",
            "Probabilidades: [0.9813567399978638, 2.6951171093969606e-05, 0.018616368994116783]\n",
            "\n",
            "Texto: Volkswagen AG cut its guidance for a second time this year, warning that waning demand will undercut the German carmaker’s profitability as it squares off with unions over possible job cuts and unprecedented plant closures.\n",
            "Sentimiento: 3 estrellas\n",
            "Probabilidades: [3.5982043300464284e-07, 2.523075863791746e-06, 0.9999971389770508]\n",
            "\n",
            "Texto: Britons are indulging in small mood boosters as they brace for a tough budget next month.\n",
            "Sentimiento: 3 estrellas\n",
            "Probabilidades: [0.10103344917297363, 0.0003093283448833972, 0.8986572623252869]\n",
            "\n",
            "Texto: Turkey will introduce a 10% minimum corporate tax for companies starting from 2025 to help narrow its budget deficit.\n",
            "Sentimiento: 1 estrellas\n",
            "Probabilidades: [0.9989268183708191, 0.0002998574054799974, 0.000773283070884645]\n",
            "\n",
            "Texto: Equities in China and Hong Kong were standout gainers on Monday after Beijing’s latest measures to tackle its property crisis. Stocks elsewhere in Asia declined with Japan’s benchmark plummeting.\n",
            "Sentimiento: 3 estrellas\n",
            "Probabilidades: [0.0015541687607765198, 0.013305426575243473, 0.985140323638916]\n",
            "\n",
            "Texto: Morgan Stanley's Robin Xing says recent stimulus measures announced by China mark \"a significant change in Beijing's mindset to fight deflation.\" But Xing says fiscal action is still missing and that the central government should expand its balance sheet to boost consumption and social welfare. (Source: Bloomberg)\n",
            "Sentimiento: 2 estrellas\n",
            "Probabilidades: [0.450660765171051, 0.5487052202224731, 0.0006340107065625489]\n",
            "\n",
            "Texto: Before the trading day starts we bring you a digest of the key news and events that are likely to move markets. Today we look at:\n",
            "Sentimiento: 1 estrellas\n",
            "Probabilidades: [0.9999988079071045, 4.5042830265629163e-07, 6.855790957160934e-07]\n",
            "\n",
            "Texto: When Michael Strobaek joined Lombard Odier as chief investment officer in November, one of his first big moves was to sell all the China stocks and bonds in its holdings managed for private clients.\n",
            "Sentimiento: 1 estrellas\n",
            "Probabilidades: [0.9997674822807312, 3.558111302481848e-06, 0.000228964738198556]\n",
            "\n",
            "Texto: Oil steadied after Israel’s killing of Hezbollah’s leader, Hassan Nasrallah, with the market waiting to see how Iran will respond.\n",
            "Sentimiento: 3 estrellas\n",
            "Probabilidades: [0.0641593262553215, 0.0031684432178735733, 0.9326722621917725]\n",
            "\n",
            "Texto: Hurricane Helene has halted chicken processing plants and caused severe damage to some flocks, while also downing pecan trees and flattening cotton crops, as floodwaters swamped the southern US.\n",
            "Sentimiento: 3 estrellas\n",
            "Probabilidades: [1.681530920905061e-05, 1.320851151831448e-05, 0.9999699592590332]\n",
            "\n",
            "Texto: Japanese stocks tumbled after Shigeru Ishiba’s surprise victory over Sanae Takaichi in the ruling party’s leadership race wrongfooted investors who had bet on a boost from more monetary stimulus from his rival.\n",
            "Sentimiento: 3 estrellas\n",
            "Probabilidades: [0.0001040525603457354, 0.005421648267656565, 0.9944743514060974]\n",
            "\n",
            "Texto: Chinese stocks extended one of their most remarkable turnarounds in history, soaring for a ninth straight day as government stimulus entices investors back to one of the most beaten-down markets worldwide.\n",
            "Sentimiento: 2 estrellas\n",
            "Probabilidades: [4.9785844566940796e-06, 0.9999831914901733, 1.1841205378004815e-05]\n",
            "\n",
            "Texto: Nomura Holdings Inc. was excluded as lead manager for several yen bond deals after authorities found market rule violations, the second time this year that Japanese companies cut underwriters over breaches.\n",
            "Sentimiento: 1 estrellas\n",
            "Probabilidades: [0.7383973598480225, 0.00038356659933924675, 0.2612190544605255]\n",
            "\n",
            "Texto: The liquidators of Lim Oon Kuin’s collapsed oil trading empire are set to recover about $3.5 billion from the fallen tycoon and his children in order to end a Singapore civil lawsuit, according to people with knowledge of the matter.\n",
            "Sentimiento: 1 estrellas\n",
            "Probabilidades: [0.5500298738479614, 0.008864033967256546, 0.44110608100891113]\n",
            "\n",
            "Texto: When a regulatory filing revealed a stake of more than 5% had been built up in Japanese property management firm Storage-OH Co. last October its shares spiked 17%.\n",
            "Sentimiento: 1 estrellas\n",
            "Probabilidades: [0.8908920288085938, 0.07124397158622742, 0.03786398842930794]\n",
            "\n",
            "Texto: Mark Zuckerberg’s bet on the metaverse initially looked like a colossal mistake, wiping more than $100 billion from his net worth. But now it’s paying off big-time.\n",
            "Sentimiento: 1 estrellas\n",
            "Probabilidades: [0.9712718725204468, 0.0011861741077154875, 0.027541866526007652]\n",
            "\n",
            "Texto: Iron ore spiked almost 11% after three of China’s biggest cities eased curbs on home-buying, bolstering the demand outlook in the world’s biggest consumer of the steel-making ingredient.\n",
            "Sentimiento: 2 estrellas\n",
            "Probabilidades: [3.469909248821068e-09, 1.0, 4.919287199811606e-09]\n",
            "\n",
            "Texto: Chinese Premier Li Qiang has promised to speed up delivery of new policies and major projects to meet annual economic goals. He spoke at a State Council meeting Sunday after a barrage of stimulus measures were revealed last week. Meanwhile, Shanghai, China’s financial hub, Shenzhen, the southern city known for its tech industry, and trading hub Guangzhou eased rules for homebuyers. Jill Disis reports on Bloomberg Television. (Source: Bloomberg)\n",
            "Sentimiento: 1 estrellas\n",
            "Probabilidades: [0.9999308586120605, 6.625994865316898e-05, 2.852008719855803e-06]\n",
            "\n",
            "Texto: Singapore’s stagnant initial public offering market is relying on a boost next year from real estate investment trusts.\n",
            "Sentimiento: 2 estrellas\n",
            "Probabilidades: [0.003937928006052971, 0.9857860803604126, 0.010275951586663723]\n",
            "\n",
            "Texto: Ken Griffin’s Citadel Securities has opted to establish its own brokerage operation in China after failing in its bid for Credit Suisse’s onshore business and seeing no viable alternative takeover targets, people familiar with the matter said.\n",
            "Sentimiento: 1 estrellas\n",
            "Probabilidades: [0.9944721460342407, 1.1506097507663071e-05, 0.005516337230801582]\n",
            "\n",
            "Texto: Chinese cities ease homebuying rules. Hong Kong is flooded with assets at fire sale prices. Japanese stocks are set to slump on Ishiba win. Here’s what you need to know today.\n",
            "Sentimiento: 3 estrellas\n",
            "Probabilidades: [0.0002732306020334363, 9.92590230453061e-06, 0.9997168183326721]\n",
            "\n",
            "Texto: Malaysia’s consumer stocks are set for a bounce thanks to tailwinds from a stronger ringgit, according to the country’s top-performing fund.\n",
            "Sentimiento: 2 estrellas\n",
            "Probabilidades: [9.037556083058007e-06, 0.9999873638153076, 3.6186736451782053e-06]\n",
            "\n",
            "Texto: When it comes to Chinese equities, the dominant feeling has turned to optimism.\n",
            "Sentimiento: 2 estrellas\n",
            "Probabilidades: [0.005584925878793001, 0.9910650849342346, 0.003350022481754422]\n",
            "\n",
            "Texto: More Chinese are headed to Europe and other far-flung hotspots during the Golden Week holiday that sees hundreds of millions in the country on the move, in the most robust signs of a travel rebound since the country re-opened its borders.\n",
            "Sentimiento: 2 estrellas\n",
            "Probabilidades: [3.032606946362648e-05, 0.9999691247940063, 5.451263405120699e-07]\n",
            "\n",
            "Texto: Opposition to Toyota Motor Corp. Chairman Akio Toyoda has surfaced among some of the Japanese company’s biggest investors, after a series of vehicle safety scandals gave rise to concerns about his leadership and the future of the world’s biggest carmaker.\n",
            "Sentimiento: 3 estrellas\n",
            "Probabilidades: [4.548822403194208e-07, 8.593284661628786e-08, 0.9999994039535522]\n",
            "\n",
            "Texto: The Korean won is poised to strengthen toward a key level, supported by ongoing bond inflows and expectations the central bank will refrain from cutting interest rates next week.\n",
            "Sentimiento: 2 estrellas\n",
            "Probabilidades: [5.258526698526111e-07, 0.9999995231628418, 3.145330751408437e-08]\n",
            "\n",
            "Texto: London Metal Exchange’s annual LME Week gathering is underway, bringing together traders and analysts amid copper’s latest upswing. Sugar futures are on track for their best month since January. And US utilities are outshining other industry groups in the S&amp;P 500, thanks in part to AI demand.\n",
            "Sentimiento: 2 estrellas\n",
            "Probabilidades: [9.520146704744548e-06, 0.9999896287918091, 7.907452754807309e-07]\n",
            "\n",
            "Texto: As a quant, hedge fund manager Leda Braga hired her first Ph.D. in artificial intelligence back in 2008 to build out computer-led trading strategies. Lately, she’s needed a new type of computer scientist.\n",
            "Sentimiento: 1 estrellas\n",
            "Probabilidades: [0.9998470544815063, 5.536575190490112e-05, 9.755786595633253e-05]\n",
            "\n",
            "Texto: Fonterra Cooperative Group, the world’s biggest dairy exporter, is targeting higher dividend payments to farmers to ensure it retains its share of New Zealand milk collection.\n",
            "Sentimiento: 1 estrellas\n",
            "Probabilidades: [0.6055685877799988, 0.3935759663581848, 0.0008554797968827188]\n",
            "\n",
            "Texto: Taiwan’s authorities shuttered some schools and canceled domestic flights as an intensifying Typhoon Krathon moves toward the island while bringing violent wind and rain to the Philippines.\n",
            "Sentimiento: 3 estrellas\n",
            "Probabilidades: [0.00038086637505330145, 5.119353318150388e-06, 0.9996140599250793]\n",
            "\n",
            "Texto: Rescue missions are underway across the US South as the region reels from historic flooding caused by Hurricane Helene, which has killed at least 52 people and knocked out power to millions, putting stress on aging dams and leaving behind potential losses of more than $100 billion.\n",
            "Sentimiento: 3 estrellas\n",
            "Probabilidades: [0.00012773738126270473, 5.633299224427901e-05, 0.9998160004615784]\n",
            "\n",
            "Texto: <p>Similar&nbsp;measures&nbsp;aimed at using labels to inform consumers about the air pollution emissions&nbsp;associated with gas stoves&nbsp;have&nbsp;failed in Illinois and New York.</p>\n",
            "Sentimiento: 1 estrellas\n",
            "Probabilidades: [0.9999966621398926, 1.5615962638548808e-06, 1.7453259033572976e-06]\n",
            "\n",
            "Texto: Kamala Harris raised about $55 million in high-dollar events in California this weekend, according to an official familiar with the matter, a haul that pads her financial advantage over Republican rival Donald Trump.\n",
            "Sentimiento: 2 estrellas\n",
            "Probabilidades: [8.624764973319543e-07, 0.9999991655349731, 1.34986661848302e-08]\n",
            "\n",
            "Texto: Chinese property shares rallied after three of the country’s largest cities eased rules for homebuyers, following through on the central government’s latest efforts to prop up the embattled real estate sector.\n",
            "Sentimiento: 3 estrellas\n",
            "Probabilidades: [0.010632386431097984, 0.006075169891119003, 0.9832924008369446]\n",
            "\n",
            "Texto: Nearly a year after Hamas’ unprecedented assault shattered their spirits, Israelis are in a triumphant mood over the pummeling their military has given Lebanon’s Hezbollah and the killing of its elusive leader.\n",
            "Sentimiento: 3 estrellas\n",
            "Probabilidades: [0.001708428142592311, 0.00015969887317623943, 0.9981319308280945]\n",
            "\n",
            "Texto: Hezbollah on Sunday confirmed the death of high-ranking official Nabil Kaouk in an Israeli airstrike, a day after the Lebanese militant group acknowledged the killings of multiple commanders, including longtime leader Hassan Nasrallah.\n",
            "Sentimiento: 3 estrellas\n",
            "Probabilidades: [0.003555424977093935, 0.00011605059989960864, 0.9963285326957703]\n",
            "\n",
            "Texto: The estranged brother of former Singapore Prime Minister Lee Hsien Loong said he has paid two senior ministers who sued him for defamation.\n",
            "Sentimiento: 1 estrellas\n",
            "Probabilidades: [0.5498760938644409, 0.000211878155823797, 0.4499121308326721]\n",
            "\n",
            "Texto: Rishi Sunak had one warning for the Conservatives in an otherwise low-profile speech at the party’s annual conference: End the “squabbling” that derailed his UK premiership. It likely fell on dead ears.\n",
            "Sentimiento: 3 estrellas\n",
            "Probabilidades: [0.044412508606910706, 0.0008393353782594204, 0.9547481536865234]\n",
            "\n",
            "Texto: California Governor Gavin Newsom has vetoed what would have become one of the most comprehensive policies governing the safety of artificial intelligence in the US.\n",
            "Sentimiento: 1 estrellas\n",
            "Probabilidades: [0.9631198048591614, 0.03633129969239235, 0.0005488855531439185]\n",
            "\n",
            "Texto: The United Arab Emirates’ foreign ministry said a Sudanese military aircraft attacked the residence of its ambassador to Sudan, further stoking tensions between the Gulf country and authorities in the North African nation.\n",
            "Sentimiento: 3 estrellas\n",
            "Probabilidades: [0.03359496593475342, 9.485158807365224e-05, 0.9663101434707642]\n",
            "\n",
            "Texto: UK Chancellor Rachel Reeves is aiming to attend a meeting of EU finance ministers before the end of the year, the Financial Times reports.\n",
            "Sentimiento: 1 estrellas\n",
            "Probabilidades: [0.999998927116394, 4.347959645656374e-07, 5.848821729159681e-07]\n",
            "\n",
            "Texto: Israeli fighter jets bombed a seaport and several power stations in Yemen, its military said Sunday, following a string of attacks this month on central Israel by Iran-backed Houthi rebels.\n",
            "Sentimiento: 3 estrellas\n",
            "Probabilidades: [0.0001736275589792058, 1.9477749901852803e-06, 0.9998244643211365]\n",
            "\n",
            "Texto: The leader of Austria’s far-right Freedom Party said he’ll start negotiations on a new government coalition after a historic victory &mdash; yet one that may still not grant Herbert Kickl the top job.\n",
            "Sentimiento: 1 estrellas\n",
            "Probabilidades: [0.9999271631240845, 2.6023730242741294e-05, 4.6794270019745454e-05]\n",
            "\n",
            "Texto: A longtime rival of Benjamin Netanyahu said he would join his coalition, diminishing the virtual veto that far-right members have held over Israel’s prime minister amid a year of war.\n",
            "Sentimiento: 1 estrellas\n",
            "Probabilidades: [0.9999568462371826, 1.7003794710035436e-05, 2.6147547032451257e-05]\n",
            "\n",
            "Texto: US Defense Secretary Lloyd Austin warned Iran and the militant groups it backs against attacking Americans in the Middle East, while the White House renewed calls on Israel to avoid triggering a wider regional war.\n",
            "Sentimiento: 3 estrellas\n",
            "Probabilidades: [0.002852641511708498, 6.454948743339628e-05, 0.9970827698707581]\n",
            "\n",
            "Texto: Ukraine said it struck a stockpile of weapons in Russia overnight that may have included just-arrived missiles from Iran.\n",
            "Sentimiento: 1 estrellas\n",
            "Probabilidades: [0.9994103908538818, 1.7001108290060074e-06, 0.0005879868404008448]\n",
            "\n",
            "Texto: Czech Prime Minister Petr Fiala said Sunday he wants to have clarity on the future makeup of his ruling coalition within days and an updated cabinet within two weeks.\n",
            "Sentimiento: 1 estrellas\n",
            "Probabilidades: [0.9999988079071045, 1.6099605204544787e-07, 1.1273812106082914e-06]\n",
            "\n",
            "Texto: Maternity pay is \"excessive\" and people should exercise \"more personal responsibility\", Kemi Badenoch has said.\n",
            "Sentimiento: 1 estrellas\n",
            "Probabilidades: [0.9080572128295898, 0.0011401069350540638, 0.09080268442630768]\n",
            "\n",
            "Texto: A Member of Parliament quit the UK’s governing Labour Party, unleashing a deeply personal attack on Prime Minister Keir Starmer and slamming the “staggering” revelations of hypocrisy under his leadership.\n",
            "Sentimiento: 1 estrellas\n",
            "Probabilidades: [0.8955052495002747, 0.00013803731417283416, 0.10435669124126434]\n",
            "\n",
            "Texto: Conservative leadership candidates have laid out their plans on immigration ahead of the party conference where they will be vying to replace Rishi Sunak as leader.\n",
            "Sentimiento: 1 estrellas\n",
            "Probabilidades: [0.9999840259552002, 3.0979044822743163e-06, 1.2930976481584366e-05]\n",
            "\n",
            "Texto: German foreign minister Annalena Baerbock criticized Donald Trump for spreading “fake news” about her country while pledging to have a “trustful relationship” with a second Trump administration if he wins the upcoming elections.\n",
            "Sentimiento: 1 estrellas\n",
            "Probabilidades: [0.9998904466629028, 1.0240457413601689e-05, 9.932195098372176e-05]\n",
            "\n",
            "Texto: Israel had been looking for a chance to kill the leader of Hezbollah.\n",
            "Sentimiento: 1 estrellas\n",
            "Probabilidades: [0.9993476271629333, 0.00017827888950705528, 0.00047408539103344083]\n",
            "\n",
            "Texto: CERN, the particle physics lab researching the smallest building blocks of the universe, is facing a new challenge: how to fund a $17 billion project to keep it ahead of the competition.\n",
            "Sentimiento: 3 estrellas\n",
            "Probabilidades: [0.00027440415578894317, 3.902275238942821e-06, 0.9997217059135437]\n",
            "\n",
            "Texto: Canterbury MP Rosie Duffield, who resigned the Labour whip on Friday, has said she feels the party's supporters are being \"completely taken for granted\".\n",
            "Sentimiento: 1 estrellas\n",
            "Probabilidades: [0.9998563528060913, 9.440154826734215e-06, 0.0001341687748208642]\n",
            "\n",
            "Texto: Austria’s far-right Freedom Party is forecast to win the most votes at a federal election for the first time, in what would be a bitter defeat for the nation’s two historical political groups that will likely herald a complicated stretch of coalition talks.\n",
            "Sentimiento: 1 estrellas\n",
            "Probabilidades: [0.9857301712036133, 0.013398445211350918, 0.0008714419091120362]\n",
            "\n",
            "Texto: The Conservative Party calls itself the UK’s natural party of government. As the Tories gather for their annual conference in Birmingham, they find themselves not only in opposition for the first time in 14 years, but forced to confront the fallout from their worst ever election defeat.\n",
            "Sentimiento: 3 estrellas\n",
            "Probabilidades: [0.027872789651155472, 5.531392162083648e-05, 0.9720718860626221]\n",
            "\n",
            "Texto: Malaysia’s ruling coalition scored a landslide victory in a by-election on Saturday, with party leaders hailing it as a sign of long-term political stability and public acceptance of Prime Minister Anwar Ibrahim’s unity government.\n",
            "Sentimiento: 2 estrellas\n",
            "Probabilidades: [0.032395049929618835, 0.9668025374412537, 0.0008024316630326211]\n",
            "\n",
            "Texto: South Korea’s semiconductor stockpiles dwindled at the fastest clip since 2009 last month in a sign of sustained demand for high-performance memory chips used in artificial intelligence development.\n",
            "Sentimiento: 2 estrellas\n",
            "Probabilidades: [0.001817956450395286, 0.8946560025215149, 0.10352598130702972]\n",
            "\n",
            "Texto: <p>Rate of cancellations almost tripled after Trump backers called for action against the streaming service.</p>\n",
            "Sentimiento: 1 estrellas\n",
            "Probabilidades: [0.9992138147354126, 0.00038336298894137144, 0.0004028611583635211]\n",
            "\n",
            "Texto: Volvo Car AB and dozens of industrial manufacturers urged Brussels to stick to a plan to halt sales of new combustion-engine cars starting 2035. But Europe’s biggest automakers are keeping quiet.\n",
            "Sentimiento: 3 estrellas\n",
            "Probabilidades: [0.002805187366902828, 0.0015667289262637496, 0.9956281185150146]\n",
            "\n",
            "Texto: Meta’s latest AR glasses and cheaper mixed-reality headset add pressure on Apple to make its Vision push work. Also: Apple ramps up work on a new smart home lineup, and there’s fresh hope that the blood-oxygen feature will return to its watch.\n",
            "Sentimiento: 3 estrellas\n",
            "Probabilidades: [0.0025709744077175856, 0.19170641899108887, 0.8057226538658142]\n",
            "\n",
            "Texto: French football star Kylian Mbappe has acquired a stake in German electronics firm Loewe Technology GmbH, an investment the company expects will increase sales and potentially pave the way for an initial public offering.\n",
            "Sentimiento: 2 estrellas\n",
            "Probabilidades: [4.0109921428665984e-06, 0.9999959468841553, 3.5640052686858326e-08]\n",
            "\n",
            "Texto: KATHMANDU, Nepal (AP) &mdash; Rescuers in Nepal recovered dozens of bodies from buses and other vehicles that were buried in landslides near the capital Kathmandu, as the death toll from flooding rose to at least 148 with dozens missing, officials said Sunday.\n",
            "Sentimiento: 1 estrellas\n",
            "Probabilidades: [0.9035980701446533, 0.0020516663789749146, 0.09435020387172699]\n",
            "\n",
            "Texto: It’s wrong to expect that a cycle of interest-rate cuts from the Federal Reserve will suddenly revive the green transition, according to Barry Norris, the founder and chief investment officer of UK hedge fund Argonaut Capital Partners.\n",
            "Sentimiento: 3 estrellas\n",
            "Probabilidades: [0.014214674010872841, 1.1694170098053291e-05, 0.9857736229896545]\n",
            "\n",
            "Texto: Floodwaters threaten more damage in Georgia and South Carolina as the US South reels in the aftermath of Hurricane Helene, a storm that killed at least 84 people, destroyed homes and left millions without power even as forecasters look to the tropics for the next storm.\n",
            "Sentimiento: 3 estrellas\n",
            "Probabilidades: [0.00011195623665116727, 0.00018354911298956722, 0.9997044205665588]\n",
            "\n",
            "Texto: Mexico’s Pacific coast is starting to clean up after a storm flooded much of Acapulco, killing fifteen people in the city.\n",
            "Sentimiento: 3 estrellas\n",
            "Probabilidades: [0.001402082503773272, 0.00012081550084985793, 0.9984771609306335]\n",
            "\n",
            "Texto: Two new weather warnings have been issued for heavy rain next week, as a deluge is set to begin in the south on Sunday afternoon.\n",
            "Sentimiento: 1 estrellas\n",
            "Probabilidades: [0.999872088432312, 1.1265461807852262e-06, 0.00012683107343036681]\n",
            "\n",
            "Texto: KATHMANDU, Nepal (AP) &mdash; Flooding and landslides caused by continuous rainfall has killed at least 66 people in Nepal, and a further 69 are missing, officials said Saturday.\n",
            "Sentimiento: 3 estrellas\n",
            "Probabilidades: [0.002314097248017788, 2.9174459996283986e-05, 0.9976567029953003]\n",
            "\n",
            "Texto: Tropical storm Krathon is headed for the Philippines as authorities place northern parts of the main Luzon island on alert, saying there’s a high chance of rapid intensification and the possibility it could become a super typhoon.\n",
            "Sentimiento: 1 estrellas\n",
            "Probabilidades: [0.8959972262382507, 0.00168717245105654, 0.10231557488441467]\n",
            "\n",
            "Texto: The UK is braced for heavy rain and strong winds just days after homes and businesses were flooded.\n",
            "Sentimiento: 3 estrellas\n",
            "Probabilidades: [0.005170523654669523, 3.94114940718282e-05, 0.9947900772094727]\n",
            "\n"
          ]
        }
      ]
    },
    {
      "cell_type": "code",
      "source": [
        "# Contamos la cantidad de positivos, negativos y neutros\n",
        "count_pos = 0\n",
        "count_neg = 0\n",
        "count_neu = 0\n",
        "\n",
        "for texto in unique_resumenes:\n",
        "    sentimiento, probs = analizar_sentimiento(texto)\n",
        "    if sentimiento == 1:\n",
        "        count_pos += 1\n",
        "    elif sentimiento == 2:\n",
        "        count_neg += 1\n",
        "    else:\n",
        "        count_neu += 1\n",
        "\n"
      ],
      "metadata": {
        "id": "lZeRrtgyR34i"
      },
      "execution_count": 23,
      "outputs": []
    },
    {
      "cell_type": "code",
      "source": [
        "frec = [count_pos, count_neg, count_neu]\n",
        "fig, ax = plt.subplots()\n",
        "ax.bar(1, frec[0], label = 'Positivo')\n",
        "ax.bar(2, frec[1], label = 'Negativo')\n",
        "ax.bar(0, frec[2], label = 'Neutro')\n",
        "\n",
        "\n",
        "ax.legend()\n"
      ],
      "metadata": {
        "colab": {
          "base_uri": "https://localhost:8080/",
          "height": 447
        },
        "id": "ZLnnW0XBUgBx",
        "outputId": "2fd7e729-732b-4a5f-dc81-6d6ca2635c8c"
      },
      "execution_count": 24,
      "outputs": [
        {
          "output_type": "execute_result",
          "data": {
            "text/plain": [
              "<matplotlib.legend.Legend at 0x7e16cc683d90>"
            ]
          },
          "metadata": {},
          "execution_count": 24
        },
        {
          "output_type": "display_data",
          "data": {
            "text/plain": [
              "<Figure size 640x480 with 1 Axes>"
            ],
            "image/png": "[encoded data removed]"
          },
          "metadata": {}
        }
      ]
    },
    {
      "cell_type": "markdown",
      "source": [
        "# Conclusiones\n",
        "\n",
        "Respecto al resultado de Bertopic, se encuentran 11 categorías establecidas de manera arbitraria por el modelo, las categorías parecen indicar distinción entre noticias de guerra y de política económica. Sin embargo, no se encuentra una justificación aparente para que sean 11 categorías.Respecto al resultado de FinBert, se han obtenido resultados de view positivo sobre negativo y neutro en el mercado. Es decir, la perspecta de crecimiento económico y financiero actualmente es positiva.  \n",
        "Un siguiente paso a realizar por el autor es focalizar a noticias dentro de una región para obtener una perspectiva más centrada en una región más específica. Además, se pueden emplear modelos más sofisticados. Finalmente, se puede emplear para apoyar un modelo a partir de Retrieve Augmented Generation, que es una herramienta que apoya en el conocimiento específico de un LLM."
      ],
      "metadata": {
        "id": "XKKWrV8CBud2"
      }
    },
    {
      "cell_type": "markdown",
      "source": [
        "## Bibliografia\n",
        "\n",
        "\n",
        "1. Araci, D. (2019). FinBERT: Financial Sentiment Analysis with Pre-trained Language Models. arXiv preprint arXiv:1908.10063.\n",
        "2. Bhat, R., & Jain, B. (2024, June). Stock Price Trend Prediction using Emotion Analysis of Financial Headlines with Distilled LLM Model. In Proceedings of the 17th International Conference on PErvasive Technologies Related to Assistive Environments (pp. 67-73).\n",
        "3. Xing, F. (2024). Designing heterogeneous llm agents for financial sentiment analysis. ACM Transactions on Management Information Systems."
      ],
      "metadata": {
        "id": "YgoJxRwXFL2Y"
      }
    }
  ]
}